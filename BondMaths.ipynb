{
 "cells": [
  {
   "cell_type": "code",
   "execution_count": 1,
   "metadata": {},
   "outputs": [],
   "source": [
    "# Simple calculation of ZCB.\n",
    "def zcb(fv,y,t):\n",
    "    \"\"\"\n",
    "    To Calculate Price of Zero Coupon Bond = Face Value / (1+y)^t\n",
    "    fv: Face Value of Bond\n",
    "    y: Annual Yield or Rate\n",
    "    t: Time to Maturity\n",
    "    \"\"\"\n",
    "    return fv/(1+y)**t"
   ]
  },
  {
   "cell_type": "code",
   "execution_count": 35,
   "metadata": {},
   "outputs": [
    {
     "name": "stdout",
     "output_type": "stream",
     "text": [
      "96.11687812379854\n"
     ]
    }
   ],
   "source": [
    "# Calculate 2 Years ZCB Price.\n",
    "print(zcb(100,0.02,2))"
   ]
  },
  {
   "cell_type": "code",
   "execution_count": 20,
   "metadata": {},
   "outputs": [],
   "source": [
    "import scipy.optimize as optimize\n",
    "\n",
    "def b_ytm(price, fv, T, coup, freq=2, guess=0.05): #Semi Annual Coupon payment, hence Freq = 2.\n",
    "    freq = float(freq) # Convert into Float variable\n",
    "    periods = T*freq # total number of coupun payment\n",
    "    coupon = coup/100*fv/freq # coupon value\n",
    "    dt = [(i+1)/freq for i in range(int(periods))] # calculation of dt.\n",
    "    ytm_func = lambda y: sum([coupon/(1+y/freq)**(freq*t) for t in dt]) + fv/(1+y/freq)**(freq*max(dt)) - price # YTM Function.\n",
    "    return optimize.newton(ytm_func, guess) # Solving equation using newton optimization to arrive at final value. "
   ]
  },
  {
   "cell_type": "code",
   "execution_count": 22,
   "metadata": {},
   "outputs": [
    {
     "name": "stdout",
     "output_type": "stream",
     "text": [
      "0.09369155345239477\n"
     ]
    }
   ],
   "source": [
    "print(b_ytm(95.0428,100,1.5,5.75,2))"
   ]
  },
  {
   "cell_type": "code",
   "execution_count": 23,
   "metadata": {},
   "outputs": [],
   "source": [
    "\"\"\" Get bond price from YTM \"\"\"\n",
    "def b_price(fv, T, ytm, coup, freq=2):\n",
    "    freq = float(freq)\n",
    "    periods = T*freq\n",
    "    coupon = coup/100*fv/freq\n",
    "    dt = [(i+1)/freq for i in range(int(periods))]\n",
    "    price = sum([coupon/(1+ytm/freq)**(freq*t) for t in dt]) + fv/(1+ytm/freq)**(freq*T)\n",
    "    return price"
   ]
  },
  {
   "cell_type": "code",
   "execution_count": 24,
   "metadata": {},
   "outputs": [
    {
     "name": "stdout",
     "output_type": "stream",
     "text": [
      "95.04280000000004\n"
     ]
    }
   ],
   "source": [
    "print(b_price(100,1.5,0.09369155345239477,5.75,2))"
   ]
  },
  {
   "cell_type": "code",
   "execution_count": 29,
   "metadata": {},
   "outputs": [],
   "source": [
    "\"\"\" Calculate modified duration of a bond \"\"\"\n",
    "def mod_duration(price, par, T, coup, freq, dy=0.01):\n",
    "    ytm = b_ytm(price, par, T, coup, freq)\n",
    "    ytm_minus = ytm - dy\n",
    "    price_minus = b_price(par, T, ytm_minus, coup, freq)\n",
    "    ytm_plus = ytm + dy\n",
    "    price_plus = b_price(par, T, ytm_plus, coup, freq)\n",
    "    mduration = (price_minus-price_plus)/(2*price*dy)\n",
    "    return mduration"
   ]
  },
  {
   "cell_type": "code",
   "execution_count": 30,
   "metadata": {},
   "outputs": [
    {
     "name": "stdout",
     "output_type": "stream",
     "text": [
      "1.3921788121706968\n"
     ]
    }
   ],
   "source": [
    "print(mod_duration(95.04,100,1.5,5.75,2,0.01))"
   ]
  },
  {
   "cell_type": "code",
   "execution_count": 31,
   "metadata": {},
   "outputs": [],
   "source": [
    "\"\"\" Calculate convexity of a bond \"\"\"\n",
    "def b_convexity(price, par, T, coup, freq, dy=0.01):\n",
    "    ytm = b_ytm(price, par, T, coup, freq)\n",
    "    ytm_minus = ytm - dy\n",
    "    price_minus = b_price(par, T, ytm_minus, coup, freq)\n",
    "    ytm_plus = ytm + dy\n",
    "    price_plus = b_price(par, T, ytm_plus, coup, freq)\n",
    "    convexity = (price_minus+price_plus-2*price)/(price*dy**2)\n",
    "    return convexity"
   ]
  },
  {
   "cell_type": "code",
   "execution_count": 32,
   "metadata": {},
   "outputs": [
    {
     "name": "stdout",
     "output_type": "stream",
     "text": [
      "2.6339593903438367\n"
     ]
    }
   ],
   "source": [
    "print(b_convexity(95.0428, 100, 1.5, 5.75, 2))"
   ]
  },
  {
   "cell_type": "code",
   "execution_count": null,
   "metadata": {},
   "outputs": [],
   "source": []
  }
 ],
 "metadata": {
  "kernelspec": {
   "display_name": "Python 3",
   "language": "python",
   "name": "python3"
  },
  "language_info": {
   "codemirror_mode": {
    "name": "ipython",
    "version": 3
   },
   "file_extension": ".py",
   "mimetype": "text/x-python",
   "name": "python",
   "nbconvert_exporter": "python",
   "pygments_lexer": "ipython3",
   "version": "3.8.5"
  }
 },
 "nbformat": 4,
 "nbformat_minor": 4
}
